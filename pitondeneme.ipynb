{
 "cells": [
  {
   "cell_type": "code",
   "execution_count": 2,
   "id": "e6a9c2b6-6c7e-4a0a-b937-c46009429587",
   "metadata": {},
   "outputs": [
    {
     "name": "stdout",
     "output_type": "stream",
     "text": [
      "Hello\n"
     ]
    }
   ],
   "source": [
    "print(\"Hello\")"
   ]
  },
  {
   "cell_type": "code",
   "execution_count": 6,
   "id": "196eb7a7-6478-410c-82bc-2d9ab0dd0087",
   "metadata": {},
   "outputs": [],
   "source": [
    "football_teams={'Galatasaray':{'Yıl':[1905],'Oyuncular':['Ali','Sadık','Mehmet','Taha'],'Bütçe':['250.000.000 EUR']},\n",
    "                'Fenerbahce':{'Yıl':[1907],'Oyuncular':['Aliko','Sadıke','Mehmeta','Tahaso'],'Bütçe':['300.000.000 EUR']}}\n",
    "\n",
    "                                                                                                                                                                                                           "
   ]
  },
  {
   "cell_type": "code",
   "execution_count": 11,
   "id": "2e0f590a-cc9f-41bb-88a3-85aae6bd1541",
   "metadata": {},
   "outputs": [
    {
     "name": "stdout",
     "output_type": "stream",
     "text": [
      "[1905]\n"
     ]
    }
   ],
   "source": [
    "print(football_teams['Galatasaray']['Yıl'])"
   ]
  },
  {
   "cell_type": "code",
   "execution_count": 16,
   "id": "038ca50c-2465-403c-b1ee-b22c695c30e5",
   "metadata": {},
   "outputs": [
    {
     "name": "stdout",
     "output_type": "stream",
     "text": [
      "dict_keys(['Galatasaray', 'Fenerbahce'])\n",
      "dict_values([{'Yıl': [1905], 'Oyuncular': ['Ali', 'Sadık', 'Mehmet', 'Taha'], 'Bütçe': ['250.000.000 EUR']}, {'Yıl': [1907], 'Oyuncular': ['Aliko', 'Sadıke', 'Mehmeta', 'Tahaso'], 'Bütçe': ['300.000.000 EUR']}])\n"
     ]
    }
   ],
   "source": [
    "print(football_teams.keys())\n",
    "print(football_teams.values())"
   ]
  },
  {
   "cell_type": "code",
   "execution_count": 3,
   "id": "90288e31-6df4-4d4e-8c42-3ec0d5ebd9f3",
   "metadata": {},
   "outputs": [
    {
     "name": "stdout",
     "output_type": "stream",
     "text": [
      "{'Ali': 2, 'Şeyma': 1, 'Ronaldo': 2, 'Tahastos': 3}\n"
     ]
    }
   ],
   "source": [
    "sinif_listesi=[['Ali',25,2.25],\n",
    "               ['Şeyma',29,3.25],\n",
    "               ['Ronaldo',39,4],\n",
    "               ['Tahastos',25,2],\n",
    "               ['Ali',20,3],\n",
    "               ['Ronaldo',45,4,5],\n",
    "               ['Tahastos',35,2],\n",
    "               ['Tahastos',3,4.5]\n",
    "]\n",
    "\n",
    "kac_tekrar_yapilmis={}\n",
    "for row in sinif_listesi:\n",
    "    name=row[0]\n",
    "    if name in kac_tekrar_yapilmis.keys():\n",
    "        kac_tekrar_yapilmis[name]+=1\n",
    "    else:\n",
    "        kac_tekrar_yapilmis[name]=1\n",
    "print(kac_tekrar_yapilmis)"
   ]
  },
  {
   "cell_type": "code",
   "execution_count": 25,
   "id": "ca880d74-7637-4708-8204-f6f8afd3933a",
   "metadata": {},
   "outputs": [
    {
     "name": "stdout",
     "output_type": "stream",
     "text": [
      "{'Ali': 2, 'Şeyma': 1, 'Ronaldo': 2, 'Tahastos': 3}\n"
     ]
    }
   ],
   "source": [
    "def kac_tane_var_say(sinif_listesi):\n",
    "   \n",
    "      kac_tekrar_yapilmis={}\n",
    "      for row in sinif_listesi:\n",
    "        name=row[0]\n",
    "        if name in kac_tekrar_yapilmis.keys():\n",
    "             kac_tekrar_yapilmis[name]+=1\n",
    "        else:\n",
    "             kac_tekrar_yapilmis[name]=1\n",
    "      return kac_tekrar_yapilmis\n",
    "sinif_listesi=[['Ali',25,2.25],\n",
    "               ['Şeyma',29,3.25],\n",
    "               ['Ronaldo',39,4],\n",
    "               ['Tahastos',25,2],\n",
    "               ['Ali',20,3],\n",
    "               ['Ronaldo',45,4.5],\n",
    "               ['Tahastos',35,2],\n",
    "               ['Tahastos',3,4.5]\n",
    "]\n",
    "print(kac_tane_var_say(sinif_listesi))\n",
    "\n"
   ]
  },
  {
   "cell_type": "code",
   "execution_count": 11,
   "id": "ca0cc70a-26f0-4a8d-8be6-b54b87e2a641",
   "metadata": {},
   "outputs": [
    {
     "name": "stdout",
     "output_type": "stream",
     "text": [
      "0 ['Ali', 25, 2.25]\n",
      "1 ['Şeyma', 29, 3.25]\n",
      "2 ['Ronaldo', 39, 4]\n",
      "3 ['Tahastos', 25, 2]\n",
      "4 ['Ali', 20, 3]\n",
      "5 ['Ronaldo', 45, 4, 5]\n",
      "6 ['Tahastos', 35, 2]\n",
      "7 ['Tahastos', 3, 4.5]\n"
     ]
    }
   ],
   "source": [
    "for ix,row in enumerate(sinif_listesi):\n",
    "    print(ix,row)\n",
    "    "
   ]
  },
  {
   "cell_type": "code",
   "execution_count": 14,
   "id": "87d06299-69ed-44d8-b29d-2f2529d2300c",
   "metadata": {},
   "outputs": [
    {
     "name": "stdout",
     "output_type": "stream",
     "text": [
      "[15, 17, 44, 66, 88, 55, 75]\n"
     ]
    }
   ],
   "source": [
    "numara_listesi=[2,5,7,34,56,78,45,65]\n",
    "numara_listesindeki_sayilara_onekle=[]\n",
    "for i in numara_listesi:\n",
    "    if i>2:\n",
    "        numara_listesindeki_sayilara_onekle.append(i+10)\n",
    "    else:\n",
    "        continue\n",
    "print(numara_listesindeki_sayilara_onekle)"
   ]
  },
  {
   "cell_type": "code",
   "execution_count": 15,
   "id": "4e8b5405-923d-48a6-89d2-77e97588eeed",
   "metadata": {},
   "outputs": [
    {
     "name": "stdout",
     "output_type": "stream",
     "text": [
      "[15, 17, 44, 66, 88, 55, 75]\n"
     ]
    }
   ],
   "source": [
    "kisayol=[i+10 for i in numara_listesi if i>2]\n",
    "print(kisayol)"
   ]
  },
  {
   "cell_type": "code",
   "execution_count": 17,
   "id": "b4477c90-39e3-401f-a906-9c8f58787017",
   "metadata": {},
   "outputs": [
    {
     "name": "stdout",
     "output_type": "stream",
     "text": [
      "[15, 17, 44, 55, 66, 75, 88]\n"
     ]
    }
   ],
   "source": [
    "kisayol.sort()\n",
    "print(kisayol)"
   ]
  },
  {
   "cell_type": "code",
   "execution_count": 18,
   "id": "c5f9bb6f-3a3c-44dd-9c8e-242999508083",
   "metadata": {},
   "outputs": [
    {
     "name": "stdout",
     "output_type": "stream",
     "text": [
      "[['Ali', 20, 3], ['Ali', 25, 2.25], ['Ronaldo', 39, 4], ['Ronaldo', 45, 4, 5], ['Tahastos', 3, 4.5], ['Tahastos', 25, 2], ['Tahastos', 35, 2], ['Şeyma', 29, 3.25]]\n"
     ]
    }
   ],
   "source": [
    "sinif_listesi.sort()\n",
    "print(sinif_listesi)"
   ]
  },
  {
   "cell_type": "code",
   "execution_count": 19,
   "id": "7b8d10e2-91b6-4dbd-be83-5b7e09781b0d",
   "metadata": {},
   "outputs": [
    {
     "name": "stdout",
     "output_type": "stream",
     "text": [
      "[['Şeyma', 29, 3.25], ['Tahastos', 35, 2], ['Tahastos', 25, 2], ['Tahastos', 3, 4.5], ['Ronaldo', 45, 4, 5], ['Ronaldo', 39, 4], ['Ali', 25, 2.25], ['Ali', 20, 3]]\n"
     ]
    }
   ],
   "source": [
    "sinif_listesi.sort(reverse=True)\n",
    "print(sinif_listesi)"
   ]
  },
  {
   "cell_type": "code",
   "execution_count": 20,
   "id": "ff299c63-6a1d-44cd-8fd5-90c1976f9da7",
   "metadata": {},
   "outputs": [
    {
     "name": "stdout",
     "output_type": "stream",
     "text": [
      "[['Ali', 20, 3], ['Ali', 25, 2.25], ['Ronaldo', 39, 4], ['Ronaldo', 45, 4, 5], ['Tahastos', 3, 4.5], ['Tahastos', 25, 2], ['Tahastos', 35, 2], ['Şeyma', 29, 3.25]]\n"
     ]
    }
   ],
   "source": [
    "sinif_listesi.sort(reverse=False)\n",
    "print(sinif_listesi)"
   ]
  },
  {
   "cell_type": "code",
   "execution_count": 28,
   "id": "d6b81231-b73a-472f-886c-2fbef3b13ce0",
   "metadata": {},
   "outputs": [
    {
     "data": {
      "text/plain": [
       "[['Ronaldo', 45, 4.5],\n",
       " ['Ronaldo', 39, 4],\n",
       " ['Tahastos', 35, 2],\n",
       " ['Şeyma', 29, 3.25],\n",
       " ['Ali', 25, 2.25],\n",
       " ['Tahastos', 25, 2],\n",
       " ['Ali', 20, 3],\n",
       " ['Tahastos', 3, 4.5]]"
      ]
     },
     "execution_count": 28,
     "metadata": {},
     "output_type": "execute_result"
    }
   ],
   "source": [
    "sinif_listesi.sort(key=lambda row:row[1],reverse=True)\n",
    "sinif_listesi"
   ]
  },
  {
   "cell_type": "code",
   "execution_count": 33,
   "id": "c0a2926f-1355-4795-bc6b-e9377b18cc8e",
   "metadata": {},
   "outputs": [
    {
     "data": {
      "text/plain": [
       "[['Ronaldo', 45, 4.5],\n",
       " ['Ronaldo', 39, 4],\n",
       " ['Tahastos', 35, 2],\n",
       " ['Şeyma', 29, 3.25],\n",
       " ['Ali', 25, 2.25],\n",
       " ['Tahastos', 25, 2],\n",
       " ['Ali', 20, 3],\n",
       " ['Tahastos', 3, 4.5],\n",
       " ['Hayo', 26, 30]]"
      ]
     },
     "execution_count": 33,
     "metadata": {},
     "output_type": "execute_result"
    }
   ],
   "source": [
    "sinif_listesi_kopya=sinif_listesi.copy()\n",
    "sinif_listesi_kopya.append(['Hayo',26,30])\n",
    "sinif_listesi_kopya"
   ]
  },
  {
   "cell_type": "code",
   "execution_count": 35,
   "id": "a44ddf58-7851-4929-bc00-16dc87926090",
   "metadata": {},
   "outputs": [
    {
     "data": {
      "text/plain": [
       "[['Ronaldo', 45, 4.5],\n",
       " ['Ronaldo', 39, 4],\n",
       " ['Tahastos', 35, 2],\n",
       " ['Şeyma', 29, 3.25],\n",
       " ['Ali', 25, 2.25],\n",
       " ['Tahastos', 25, 2],\n",
       " ['Ali', 20, 3],\n",
       " ['Tahastos', 3, 4.5],\n",
       " ['Hayo', 26, 30],\n",
       " ['Hayorr', 29, 30],\n",
       " ['Hayoss', 36, 350]]"
      ]
     },
     "execution_count": 35,
     "metadata": {},
     "output_type": "execute_result"
    }
   ],
   "source": [
    "sinif_listesi_kopya.extend([['Hayorr',29,30],['Hayoss',36,350]])\n",
    "sinif_listesi_kopya"
   ]
  },
  {
   "cell_type": "code",
   "execution_count": null,
   "id": "993adb19-8b2f-4875-ae8a-55c088887c54",
   "metadata": {},
   "outputs": [],
   "source": []
  }
 ],
 "metadata": {
  "kernelspec": {
   "display_name": "Python 3 (ipykernel)",
   "language": "python",
   "name": "python3"
  },
  "language_info": {
   "codemirror_mode": {
    "name": "ipython",
    "version": 3
   },
   "file_extension": ".py",
   "mimetype": "text/x-python",
   "name": "python",
   "nbconvert_exporter": "python",
   "pygments_lexer": "ipython3",
   "version": "3.13.2"
  }
 },
 "nbformat": 4,
 "nbformat_minor": 5
}
